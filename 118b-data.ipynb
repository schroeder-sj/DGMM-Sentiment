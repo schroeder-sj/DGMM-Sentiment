{
 "cells": [
  {
   "cell_type": "code",
   "execution_count": 10,
   "id": "b2c66ad8-0734-42b7-bbd3-ca56e76173cf",
   "metadata": {},
   "outputs": [],
   "source": [
    "import pandas as pd\n",
    "import numpy as np\n",
    "from sklearn.preprocessing import StandardScaler\n",
    "import re\n",
    "import string\n",
    "from sklearn.model_selection import train_test_split\n",
    "from sklearn.feature_extraction.text import TfidfVectorizer\n",
    "from tensorflow.keras import layers, models, optimizers\n",
    "from sklearn.mixture import GaussianMixture\n",
    "import matplotlib.pyplot as plt\n",
    "import tensorflow as tf\n",
    "import json\n",
    "import gzip\n",
    "import re\n",
    "import langid\n",
    "import seaborn as sns"
   ]
  },
  {
   "cell_type": "markdown",
   "id": "45058978-d924-42cf-82d8-f29e9bd6ea41",
   "metadata": {},
   "source": [
    "# Data Cleaning "
   ]
  },
  {
   "cell_type": "code",
   "execution_count": 2,
   "id": "ed119a1e",
   "metadata": {},
   "outputs": [],
   "source": [
    "def load_dataset_from_gzip(file_path):\n",
    "    data = []\n",
    "    with gzip.open(file_path, 'rt', encoding='utf-8') as fp:\n",
    "        for line in fp:\n",
    "            data.append(json.loads(line.strip()))\n",
    "    return pd.DataFrame(data)"
   ]
  },
  {
   "cell_type": "code",
   "execution_count": 3,
   "id": "39d8ada0",
   "metadata": {},
   "outputs": [],
   "source": [
    "df = load_dataset_from_gzip('Appliances.jsonl.gz')"
   ]
  },
  {
   "cell_type": "code",
   "execution_count": 4,
   "id": "f391896c",
   "metadata": {},
   "outputs": [],
   "source": [
    "# drop non-review columns\n",
    "df = df.drop(['images', 'asin', 'parent_asin', 'user_id', 'timestamp', 'helpful_vote'], axis = 1)\n",
    "# only use verified purchases to reduce noise\n",
    "df = df[df['verified_purchase'] == True]\n",
    "# merge title and review and remove special characters\n",
    "df['cleaned_text'] = (df['title'] + \" \" + df['text']).apply(lambda x: re.sub(r'[^a-zA-Z0-9\\s]', '', x))\n",
    "df = df[['cleaned_text', 'rating']]"
   ]
  },
  {
   "cell_type": "code",
   "execution_count": 5,
   "id": "8e9cd577",
   "metadata": {},
   "outputs": [
    {
     "data": {
      "text/html": [
       "<div>\n",
       "<style scoped>\n",
       "    .dataframe tbody tr th:only-of-type {\n",
       "        vertical-align: middle;\n",
       "    }\n",
       "\n",
       "    .dataframe tbody tr th {\n",
       "        vertical-align: top;\n",
       "    }\n",
       "\n",
       "    .dataframe thead th {\n",
       "        text-align: right;\n",
       "    }\n",
       "</style>\n",
       "<table border=\"1\" class=\"dataframe\">\n",
       "  <thead>\n",
       "    <tr style=\"text-align: right;\">\n",
       "      <th></th>\n",
       "      <th>cleaned_text</th>\n",
       "      <th>rating</th>\n",
       "    </tr>\n",
       "  </thead>\n",
       "  <tbody>\n",
       "    <tr>\n",
       "      <th>0</th>\n",
       "      <td>Work great work great use a new one every month</td>\n",
       "      <td>5.0</td>\n",
       "    </tr>\n",
       "    <tr>\n",
       "      <th>1</th>\n",
       "      <td>excellent product Little on the thin side</td>\n",
       "      <td>5.0</td>\n",
       "    </tr>\n",
       "    <tr>\n",
       "      <th>2</th>\n",
       "      <td>Happy customer Quick delivery fixed the issue</td>\n",
       "      <td>5.0</td>\n",
       "    </tr>\n",
       "    <tr>\n",
       "      <th>3</th>\n",
       "      <td>Amazing value I wasnt sure whether these were ...</td>\n",
       "      <td>5.0</td>\n",
       "    </tr>\n",
       "    <tr>\n",
       "      <th>4</th>\n",
       "      <td>Dryer parts Easy to install got the product ex...</td>\n",
       "      <td>5.0</td>\n",
       "    </tr>\n",
       "    <tr>\n",
       "      <th>...</th>\n",
       "      <td>...</td>\n",
       "      <td>...</td>\n",
       "    </tr>\n",
       "    <tr>\n",
       "      <th>2128600</th>\n",
       "      <td>Accurate description As described</td>\n",
       "      <td>5.0</td>\n",
       "    </tr>\n",
       "    <tr>\n",
       "      <th>2128601</th>\n",
       "      <td>Not compatible with Nespresso U Machine I have...</td>\n",
       "      <td>3.0</td>\n",
       "    </tr>\n",
       "    <tr>\n",
       "      <th>2128602</th>\n",
       "      <td>Works with Sears Kenmore model 36275585891 Exa...</td>\n",
       "      <td>5.0</td>\n",
       "    </tr>\n",
       "    <tr>\n",
       "      <th>2128603</th>\n",
       "      <td>Perfect little ice maker Love this It doesnt k...</td>\n",
       "      <td>5.0</td>\n",
       "    </tr>\n",
       "    <tr>\n",
       "      <th>2128604</th>\n",
       "      <td>One Star Did not work Not the same model as th...</td>\n",
       "      <td>1.0</td>\n",
       "    </tr>\n",
       "  </tbody>\n",
       "</table>\n",
       "<p>2040064 rows × 2 columns</p>\n",
       "</div>"
      ],
      "text/plain": [
       "                                              cleaned_text  rating\n",
       "0          Work great work great use a new one every month     5.0\n",
       "1                excellent product Little on the thin side     5.0\n",
       "2            Happy customer Quick delivery fixed the issue     5.0\n",
       "3        Amazing value I wasnt sure whether these were ...     5.0\n",
       "4        Dryer parts Easy to install got the product ex...     5.0\n",
       "...                                                    ...     ...\n",
       "2128600                  Accurate description As described     5.0\n",
       "2128601  Not compatible with Nespresso U Machine I have...     3.0\n",
       "2128602  Works with Sears Kenmore model 36275585891 Exa...     5.0\n",
       "2128603  Perfect little ice maker Love this It doesnt k...     5.0\n",
       "2128604  One Star Did not work Not the same model as th...     1.0\n",
       "\n",
       "[2040064 rows x 2 columns]"
      ]
     },
     "execution_count": 5,
     "metadata": {},
     "output_type": "execute_result"
    }
   ],
   "source": [
    "df "
   ]
  },
  {
   "cell_type": "code",
   "execution_count": 6,
   "id": "157a7b79",
   "metadata": {},
   "outputs": [],
   "source": [
    "eng = df.copy()"
   ]
  },
  {
   "cell_type": "code",
   "execution_count": 7,
   "id": "62d4be5d",
   "metadata": {},
   "outputs": [],
   "source": [
    "def map_ratings_to_sentiment(rating):\n",
    "    if rating >= 4:\n",
    "        return 1  # Positive\n",
    "    else:\n",
    "        return 0  # Negative\n"
   ]
  },
  {
   "cell_type": "code",
   "execution_count": 8,
   "id": "6603b236",
   "metadata": {},
   "outputs": [],
   "source": [
    "eng['sentiment'] = eng['rating'].apply(map_ratings_to_sentiment)\n",
    "eng = eng.drop(['rating'], axis =1)"
   ]
  },
  {
   "cell_type": "code",
   "execution_count": 11,
   "id": "58820040",
   "metadata": {},
   "outputs": [
    {
     "data": {
      "image/png": "[encoded data removed]",
      "text/plain": [
       "<Figure size 800x600 with 1 Axes>"
      ]
     },
     "metadata": {},
     "output_type": "display_data"
    }
   ],
   "source": [
    "sentiment_counts = eng['sentiment'].value_counts()\n",
    "plt.figure(figsize=(8, 6))\n",
    "sns.barplot(x=sentiment_counts.index, y=sentiment_counts.values, palette='viridis')\n",
    "\n",
    "# Add labels and title\n",
    "plt.xlabel('Sentiment', fontsize=12)\n",
    "plt.ylabel('Count', fontsize=12)\n",
    "plt.title('Sentiment Distribution', fontsize=14)\n",
    "plt.xticks(fontsize=10)\n",
    "plt.yticks(fontsize=10)\n",
    "\n",
    "# Show the plot\n",
    "plt.show()"
   ]
  },
  {
   "cell_type": "code",
   "execution_count": 12,
   "id": "19820f62",
   "metadata": {},
   "outputs": [],
   "source": [
    "positive_samples = eng[eng['sentiment'] == 0].sample(n=100000, random_state=42)\n",
    "negative_samples = eng[eng['sentiment'] == 1].sample(n=100000, random_state=42)\n",
    "\n",
    "# Combine the two samples into a new DataFrame\n",
    "balanced_df = pd.concat([positive_samples, negative_samples])"
   ]
  },
  {
   "cell_type": "code",
   "execution_count": 13,
   "id": "5c62e511",
   "metadata": {},
   "outputs": [],
   "source": [
    "balanced_df = balanced_df[balanced_df['cleaned_text'].apply(lambda x: langid.classify(x)[0] == 'en')]"
   ]
  },
  {
   "cell_type": "code",
   "execution_count": 14,
   "id": "10ff93a5",
   "metadata": {},
   "outputs": [],
   "source": [
    "balanced_df.to_csv('english_reviews.csv', index=False)"
   ]
  },
  {
   "cell_type": "code",
   "execution_count": null,
   "id": "2f3620f5",
   "metadata": {},
   "outputs": [],
   "source": []
  }
 ],
 "metadata": {
  "kernelspec": {
   "display_name": "Python 3 (ipykernel)",
   "language": "python",
   "name": "python3"
  },
  "language_info": {
   "codemirror_mode": {
    "name": "ipython",
    "version": 3
   },
   "file_extension": ".py",
   "mimetype": "text/x-python",
   "name": "python",
   "nbconvert_exporter": "python",
   "pygments_lexer": "ipython3",
   "version": "3.11.5"
  }
 },
 "nbformat": 4,
 "nbformat_minor": 5
}
